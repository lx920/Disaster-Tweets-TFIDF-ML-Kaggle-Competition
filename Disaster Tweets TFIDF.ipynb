{
 "cells": [
  {
   "cell_type": "markdown",
   "metadata": {},
   "source": [
    "## Disaster Tweets Classification\n",
    "In this Notebook, I aim to use TF-IDF and some ML models to predict if a tweet is really about a disaster or not.\\\n",
    "Here is an overview of the content\n",
    "\n",
    "- Data Visualization on tweeter words\n",
    "- Data Preprocessing, stemming and remove garbage\n",
    "- BOW and TFIDF vectorization of texts\n",
    "- ML Models train and prediction using cross validation\n",
    "- Summarize Model Performance\n",
    "- Conlusion and submission to Kaggle Competition"
   ]
  },
  {
   "cell_type": "code",
   "execution_count": null,
   "metadata": {},
   "outputs": [],
   "source": [
    "import pandas as pd\n",
    "import numpy as np\n",
    "import os\n",
    "from collections import Counter\n",
    "import seaborn as sns\n",
    "import matplotlib.pyplot as plt\n",
    "plt.style.use('seaborn-bright')\n",
    "\n",
    "import nltk\n",
    "import re\n",
    "from nltk.corpus import stopwords\n",
    "from nltk.stem.porter import PorterStemmer\n",
    "from nltk.stem import WordNetLemmatizer\n",
    "from wordcloud import WordCloud\n",
    "from sklearn.feature_extraction.text import CountVectorizer\n",
    "from sklearn.feature_extraction.text import TfidfVectorizer\n",
    "\n",
    "from tensorflow.keras.layers import Embedding,Dropout\n",
    "from tensorflow.keras.preprocessing.sequence import pad_sequences\n",
    "from tensorflow.keras.models import Sequential\n",
    "from tensorflow.keras.preprocessing.text import one_hot\n",
    "from tensorflow.keras.layers import LSTM,Bidirectional,GRU,MaxPooling1D,Conv1D\n",
    "from tensorflow.keras.layers import Dense\n",
    "\n",
    "\n",
    "from sklearn.metrics import classification_report,accuracy_score\n",
    "from sklearn.linear_model import LogisticRegression\n",
    "from sklearn.tree import DecisionTreeClassifier\n",
    "from sklearn.ensemble import RandomForestClassifier\n",
    "from xgboost import XGBClassifier\n",
    "from sklearn.linear_model import LogisticRegression\n",
    "from sklearn.naive_bayes import MultinomialNB\n",
    "\n",
    "import warnings\n",
    "warnings.filterwarnings('ignore')\n",
    "%matplotlib inline"
   ]
  },
  {
   "cell_type": "markdown",
   "metadata": {},
   "source": [
    "## Read CSV\n",
    "- Let's read csv and look at some basics"
   ]
  },
  {
   "cell_type": "code",
   "execution_count": 2,
   "metadata": {},
   "outputs": [],
   "source": [
    "train = pd.read_csv('train.csv')\n",
    "test = pd.read_csv('test.csv')"
   ]
  },
  {
   "cell_type": "code",
   "execution_count": 3,
   "metadata": {},
   "outputs": [
    {
     "data": {
      "text/html": [
       "<div>\n",
       "<style scoped>\n",
       "    .dataframe tbody tr th:only-of-type {\n",
       "        vertical-align: middle;\n",
       "    }\n",
       "\n",
       "    .dataframe tbody tr th {\n",
       "        vertical-align: top;\n",
       "    }\n",
       "\n",
       "    .dataframe thead th {\n",
       "        text-align: right;\n",
       "    }\n",
       "</style>\n",
       "<table border=\"1\" class=\"dataframe\">\n",
       "  <thead>\n",
       "    <tr style=\"text-align: right;\">\n",
       "      <th></th>\n",
       "      <th>id</th>\n",
       "      <th>keyword</th>\n",
       "      <th>location</th>\n",
       "      <th>text</th>\n",
       "      <th>target</th>\n",
       "    </tr>\n",
       "  </thead>\n",
       "  <tbody>\n",
       "    <tr>\n",
       "      <th>0</th>\n",
       "      <td>1</td>\n",
       "      <td>NaN</td>\n",
       "      <td>NaN</td>\n",
       "      <td>Our Deeds are the Reason of this #earthquake M...</td>\n",
       "      <td>1</td>\n",
       "    </tr>\n",
       "    <tr>\n",
       "      <th>1</th>\n",
       "      <td>4</td>\n",
       "      <td>NaN</td>\n",
       "      <td>NaN</td>\n",
       "      <td>Forest fire near La Ronge Sask. Canada</td>\n",
       "      <td>1</td>\n",
       "    </tr>\n",
       "    <tr>\n",
       "      <th>2</th>\n",
       "      <td>5</td>\n",
       "      <td>NaN</td>\n",
       "      <td>NaN</td>\n",
       "      <td>All residents asked to 'shelter in place' are ...</td>\n",
       "      <td>1</td>\n",
       "    </tr>\n",
       "    <tr>\n",
       "      <th>3</th>\n",
       "      <td>6</td>\n",
       "      <td>NaN</td>\n",
       "      <td>NaN</td>\n",
       "      <td>13,000 people receive #wildfires evacuation or...</td>\n",
       "      <td>1</td>\n",
       "    </tr>\n",
       "    <tr>\n",
       "      <th>4</th>\n",
       "      <td>7</td>\n",
       "      <td>NaN</td>\n",
       "      <td>NaN</td>\n",
       "      <td>Just got sent this photo from Ruby #Alaska as ...</td>\n",
       "      <td>1</td>\n",
       "    </tr>\n",
       "  </tbody>\n",
       "</table>\n",
       "</div>"
      ],
      "text/plain": [
       "   id keyword location                                               text  \\\n",
       "0   1     NaN      NaN  Our Deeds are the Reason of this #earthquake M...   \n",
       "1   4     NaN      NaN             Forest fire near La Ronge Sask. Canada   \n",
       "2   5     NaN      NaN  All residents asked to 'shelter in place' are ...   \n",
       "3   6     NaN      NaN  13,000 people receive #wildfires evacuation or...   \n",
       "4   7     NaN      NaN  Just got sent this photo from Ruby #Alaska as ...   \n",
       "\n",
       "   target  \n",
       "0       1  \n",
       "1       1  \n",
       "2       1  \n",
       "3       1  \n",
       "4       1  "
      ]
     },
     "execution_count": 3,
     "metadata": {},
     "output_type": "execute_result"
    }
   ],
   "source": [
    "train.head(5)"
   ]
  },
  {
   "cell_type": "code",
   "execution_count": 4,
   "metadata": {},
   "outputs": [
    {
     "data": {
      "text/plain": [
       "(7613, 5)"
      ]
     },
     "execution_count": 4,
     "metadata": {},
     "output_type": "execute_result"
    }
   ],
   "source": [
    "train.shape"
   ]
  },
  {
   "cell_type": "markdown",
   "metadata": {},
   "source": [
    "- There are 7613 rows and 5 columns in the train data.\n",
    "- We have 4 independent variables and 1 dependent variable."
   ]
  },
  {
   "cell_type": "markdown",
   "metadata": {},
   "source": [
    "### Class Balance\n",
    "- Lets look at how many true disaster '1', and no disaster"
   ]
  },
  {
   "cell_type": "code",
   "execution_count": 5,
   "metadata": {},
   "outputs": [
    {
     "data": {
      "image/png": "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\n",
      "text/plain": [
       "<Figure size 576x360 with 1 Axes>"
      ]
     },
     "metadata": {
      "needs_background": "light"
     },
     "output_type": "display_data"
    }
   ],
   "source": [
    "plt.figure(figsize = (8, 5))\n",
    "plt.title('Count of Classes')\n",
    "sns.countplot(x=train['target'], linewidth=2, edgecolor='black')\n",
    "plt.show()"
   ]
  },
  {
   "cell_type": "markdown",
   "metadata": {},
   "source": [
    "- There does not seem to be a class imbalance here."
   ]
  },
  {
   "cell_type": "markdown",
   "metadata": {},
   "source": [
    "### Tweet Length by word count"
   ]
  },
  {
   "cell_type": "code",
   "execution_count": 6,
   "metadata": {},
   "outputs": [
    {
     "data": {
      "image/png": "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\n",
      "text/plain": [
       "<Figure size 720x360 with 2 Axes>"
      ]
     },
     "metadata": {
      "needs_background": "light"
     },
     "output_type": "display_data"
    }
   ],
   "source": [
    "fig,(ax1,ax2) = plt.subplots(1,2,figsize=(10,5))\n",
    "char_len_dis = train[train['target']==1]['text'].str.split().map(lambda x: len(x))\n",
    "ax1.hist(char_len_dis,color='red',edgecolor='black', linewidth=1.2)\n",
    "ax1.set_title('Disaster Tweets')\n",
    "char_len_ndis = train[train['target']==0]['text'].str.split().map(lambda x: len(x))\n",
    "ax2.hist(char_len_ndis,color='blue',edgecolor='black', linewidth=1.2)\n",
    "ax2.set_title('Non-Disaster Tweets')\n",
    "plt.suptitle(\"Length of words in text\")\n",
    "plt.tight_layout()\n",
    "plt.show()"
   ]
  },
  {
   "cell_type": "markdown",
   "metadata": {},
   "source": [
    "It looks like most tweets contain 10 to 20 words"
   ]
  },
  {
   "cell_type": "markdown",
   "metadata": {},
   "source": [
    "###  Tweet Length by characters"
   ]
  },
  {
   "cell_type": "code",
   "execution_count": 7,
   "metadata": {},
   "outputs": [
    {
     "data": {
      "image/png": "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\n",
      "text/plain": [
       "<Figure size 720x360 with 2 Axes>"
      ]
     },
     "metadata": {
      "needs_background": "light"
     },
     "output_type": "display_data"
    }
   ],
   "source": [
    "fig,(ax1,ax2) = plt.subplots(1,2,figsize=(10,5))\n",
    "char_len_dis = train[train['target']==1]['text'].str.len()\n",
    "ax1.hist(char_len_dis,color='red',edgecolor='black', linewidth=1.2)\n",
    "ax1.set_title('Disaster Tweets')\n",
    "char_len_ndis = train[train['target']==0]['text'].str.len()\n",
    "ax2.hist(char_len_ndis,color='blue',edgecolor='black', linewidth=1.2)\n",
    "ax2.set_title('Non-Disaster Tweets')\n",
    "plt.suptitle(\"Length of Characters in text\")\n",
    "plt.tight_layout()\n",
    "plt.show()"
   ]
  },
  {
   "cell_type": "markdown",
   "metadata": {},
   "source": [
    "It looks like most of tweets have 120 - 140 in character length\\\n",
    "\\\n",
    "In these two categories, disaster and non-disaster tweets are similar."
   ]
  },
  {
   "cell_type": "markdown",
   "metadata": {},
   "source": [
    "### Further Analysis on Stop Words"
   ]
  },
  {
   "cell_type": "code",
   "execution_count": 8,
   "metadata": {},
   "outputs": [],
   "source": [
    "# You can find corpus here\n",
    "# Either for disaster tweets when target = 1\n",
    "# or for non disaster tweets when target = 0\n",
    "\n",
    "# I decided to put them all in lower case.\n",
    "def corpus(target):\n",
    "    corpus = []\n",
    "    for x in train[train['target'] == target]['text'].str.split():\n",
    "        for i in x:\n",
    "            corpus.append(i.lower())\n",
    "    return corpus"
   ]
  },
  {
   "cell_type": "code",
   "execution_count": 9,
   "metadata": {},
   "outputs": [],
   "source": [
    "disaster_corpus = corpus(1)\n",
    "nondisaster_corpus = corpus(0)"
   ]
  },
  {
   "cell_type": "markdown",
   "metadata": {},
   "source": [
    "Now that we have the coprpus for both categories, we can analyze the stop words"
   ]
  },
  {
   "cell_type": "code",
   "execution_count": 10,
   "metadata": {},
   "outputs": [],
   "source": [
    "# This is top 10 most common stop words in Disaster tweets\n",
    "disaster_words = Counter(disaster_corpus)\n",
    "top_disaster_words = sorted(disaster_words.items(), key = lambda x:x[1], reverse = True)\n",
    "import nltk\n",
    "stop = stopwords.words('english')\n",
    "x_items = []\n",
    "y_values = []\n",
    "\n",
    "for w in top_disaster_words:\n",
    "    if w[0] in stop:\n",
    "        x_items.append(w[0])\n",
    "        y_values.append(w[1])\n",
    "        if len(y_values) == 10:\n",
    "            break"
   ]
  },
  {
   "cell_type": "code",
   "execution_count": 11,
   "metadata": {},
   "outputs": [],
   "source": [
    "import nltk\n",
    "stop = stopwords.words('english')"
   ]
  },
  {
   "cell_type": "code",
   "execution_count": 12,
   "metadata": {},
   "outputs": [],
   "source": [
    "# # This is top 10 most common stop words in non Disaster tweets\n",
    "nondisaster_words = Counter(nondisaster_corpus)\n",
    "top_nondisaster_words = sorted(nondisaster_words.items(), key = lambda x:x[1], reverse = True)\n",
    "x_items2 = []\n",
    "y_values2 = [] \n",
    "\n",
    "for w in top_nondisaster_words:\n",
    "    if w[0] in stop:\n",
    "        x_items2.append(w[0])\n",
    "        y_values2.append(w[1])\n",
    "        if len(y_values2) == 10:\n",
    "            break"
   ]
  },
  {
   "cell_type": "code",
   "execution_count": 13,
   "metadata": {},
   "outputs": [
    {
     "data": {
      "image/png": "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\n",
      "text/plain": [
       "<Figure size 1080x360 with 2 Axes>"
      ]
     },
     "metadata": {
      "needs_background": "light"
     },
     "output_type": "display_data"
    }
   ],
   "source": [
    "fig,(ax1,ax2) = plt.subplots(1,2,figsize=(15,5))\n",
    "ax1.barh(x_items, y_values,color=\"lightblue\",edgecolor='black', linewidth=1.2)\n",
    "ax1.set_title(\"Disaster Tweets\")\n",
    "\n",
    "ax2.barh(x_items2, y_values2,color=\"lightgreen\",edgecolor='black', linewidth=1.2)\n",
    "ax2.set_title(\"non-Disaster Tweets\")\n",
    "            \n",
    "plt.suptitle(\"Top Stop words in text\")\n",
    "plt.show()"
   ]
  },
  {
   "cell_type": "code",
   "execution_count": 14,
   "metadata": {},
   "outputs": [
    {
     "name": "stdout",
     "output_type": "stream",
     "text": [
      "The top 10 Disaster stop words and their frequency\n",
      "[('the', 1330), ('in', 1144), ('of', 919), ('a', 897), ('to', 753), ('and', 494), ('on', 410), ('for', 394), ('is', 344), ('at', 303)]\n"
     ]
    }
   ],
   "source": [
    "print('The top 10 Disaster stop words and their frequency')\n",
    "print(list(zip(x_items, y_values)))"
   ]
  },
  {
   "cell_type": "code",
   "execution_count": 15,
   "metadata": {},
   "outputs": [
    {
     "name": "stdout",
     "output_type": "stream",
     "text": [
      "The top 10 non Disaster stop words and their frequency\n",
      "[('the', 1877), ('a', 1238), ('to', 1181), ('i', 1052), ('and', 911), ('of', 895), ('in', 805), ('you', 625), ('is', 586), ('my', 541)]\n"
     ]
    }
   ],
   "source": [
    "print('The top 10 non Disaster stop words and their frequency')\n",
    "print(list(zip(x_items2, y_values2)))"
   ]
  },
  {
   "cell_type": "markdown",
   "metadata": {},
   "source": [
    "### Null Values"
   ]
  },
  {
   "cell_type": "code",
   "execution_count": 16,
   "metadata": {},
   "outputs": [
    {
     "data": {
      "text/plain": [
       "id             0\n",
       "keyword       61\n",
       "location    2533\n",
       "text           0\n",
       "target         0\n",
       "dtype: int64"
      ]
     },
     "execution_count": 16,
     "metadata": {},
     "output_type": "execute_result"
    }
   ],
   "source": [
    "train.isnull().sum()"
   ]
  },
  {
   "cell_type": "code",
   "execution_count": 17,
   "metadata": {},
   "outputs": [
    {
     "data": {
      "text/plain": [
       "id             0\n",
       "keyword       26\n",
       "location    1105\n",
       "text           0\n",
       "dtype: int64"
      ]
     },
     "execution_count": 17,
     "metadata": {},
     "output_type": "execute_result"
    }
   ],
   "source": [
    "test.isnull().sum()"
   ]
  },
  {
   "cell_type": "markdown",
   "metadata": {},
   "source": [
    "As we can see, most missing values are from the location variable.\\\n",
    "There are some missing in keyword, but is rather minimal."
   ]
  },
  {
   "cell_type": "markdown",
   "metadata": {},
   "source": [
    "### Top Disaster Key Words"
   ]
  },
  {
   "cell_type": "code",
   "execution_count": 18,
   "metadata": {},
   "outputs": [
    {
     "data": {
      "image/png": "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\n",
      "text/plain": [
       "<Figure size 720x504 with 1 Axes>"
      ]
     },
     "metadata": {
      "needs_background": "light"
     },
     "output_type": "display_data"
    }
   ],
   "source": [
    "plt.figure(figsize=(10,7))\n",
    "train[train['target']==1]['keyword'].value_counts()[:20].plot(kind='barh', fontsize=12,title='Top 20 Disastrous Keywords in Text', color='#0096FF',edgecolor='black', linewidth=1.2)\n",
    "plt.show()"
   ]
  },
  {
   "cell_type": "markdown",
   "metadata": {},
   "source": [
    "### Top disaster locations?"
   ]
  },
  {
   "cell_type": "code",
   "execution_count": 19,
   "metadata": {},
   "outputs": [
    {
     "data": {
      "image/png": "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\n",
      "text/plain": [
       "<Figure size 720x504 with 1 Axes>"
      ]
     },
     "metadata": {
      "needs_background": "light"
     },
     "output_type": "display_data"
    }
   ],
   "source": [
    "plt.figure(figsize=(10,7))\n",
    "train[train[\"target\"]==1][\"location\"].value_counts()[:20].plot(kind='barh',fontsize=12, title='Top 20 Disastrous Locations in Text', color='#66ff00',edgecolor='black', linewidth=1.2)\n",
    "plt.show()"
   ]
  },
  {
   "cell_type": "markdown",
   "metadata": {},
   "source": [
    "### Data Cleansing\n",
    "- There are URLs in the text, garbage\n",
    "- There are emojis in the text, garbage\n",
    "- There are characters such as @, - , % in the text, garbage\n",
    "\n",
    "We want to remove all these garbage before doing any NLP!"
   ]
  },
  {
   "cell_type": "code",
   "execution_count": 20,
   "metadata": {},
   "outputs": [],
   "source": [
    "# We need to treat the independent variables\n",
    "# Dependent variable is just 1 or 0, no need to clean\n",
    "X = train.drop(columns=[\"target\"],axis=1)\n",
    "y = train[\"target\"]"
   ]
  },
  {
   "cell_type": "code",
   "execution_count": 21,
   "metadata": {},
   "outputs": [],
   "source": [
    "# Clean the data\n",
    "messages_train = X.copy()\n",
    "messages_test  = test.copy()\n",
    "\n",
    "def preprocess_data(data):\n",
    "    review =re.sub(r'https?://\\S+|www\\.\\S+|http?://\\S+',' ',data) #removal of url\n",
    "    review =re.sub(r'<.*?>',' ',review) #removal of html tags\n",
    "    review = re.sub(\"[\"\n",
    "                           u\"\\U0001F600-\\U0001F64F\"  # removal of emoticons\n",
    "                           u\"\\U0001F300-\\U0001F5FF\"  # symbols & pictographs\n",
    "                           u\"\\U0001F680-\\U0001F6FF\"  # transport & map symbols\n",
    "                           u\"\\U0001F1E0-\\U0001F1FF\"  # flags (iOS)\n",
    "                           u\"\\U00002702-\\U000027B0\"\n",
    "                           u\"\\U000024C2-\\U0001F251\"\n",
    "                           \"]+\",' ',review)\n",
    "    review = re.sub('[^a-zA-Z]',' ',review) # filtering out symbols \n",
    "    review = review.lower() # Lowering all the words in text\n",
    "    review = review.split()\n",
    "    review = [i for i in review if len(i)>2] # Removal of words with length<2\n",
    "    review = [i for i in review if i not in stop] # Remove all stop words\n",
    "    review = ' '.join(review)\n",
    "    return review"
   ]
  },
  {
   "cell_type": "code",
   "execution_count": 22,
   "metadata": {},
   "outputs": [],
   "source": [
    "train[\"Cleaned_text\"] = train[\"text\"].apply(preprocess_data)\n",
    "test[\"Cleaned_text\"] = test[\"text\"].apply(preprocess_data)"
   ]
  },
  {
   "cell_type": "code",
   "execution_count": 23,
   "metadata": {},
   "outputs": [
    {
     "data": {
      "text/html": [
       "<div>\n",
       "<style scoped>\n",
       "    .dataframe tbody tr th:only-of-type {\n",
       "        vertical-align: middle;\n",
       "    }\n",
       "\n",
       "    .dataframe tbody tr th {\n",
       "        vertical-align: top;\n",
       "    }\n",
       "\n",
       "    .dataframe thead th {\n",
       "        text-align: right;\n",
       "    }\n",
       "</style>\n",
       "<table border=\"1\" class=\"dataframe\">\n",
       "  <thead>\n",
       "    <tr style=\"text-align: right;\">\n",
       "      <th></th>\n",
       "      <th>id</th>\n",
       "      <th>keyword</th>\n",
       "      <th>location</th>\n",
       "      <th>text</th>\n",
       "      <th>target</th>\n",
       "      <th>Cleaned_text</th>\n",
       "    </tr>\n",
       "  </thead>\n",
       "  <tbody>\n",
       "    <tr>\n",
       "      <th>0</th>\n",
       "      <td>1</td>\n",
       "      <td>NaN</td>\n",
       "      <td>NaN</td>\n",
       "      <td>Our Deeds are the Reason of this #earthquake M...</td>\n",
       "      <td>1</td>\n",
       "      <td>deeds reason earthquake may allah forgive</td>\n",
       "    </tr>\n",
       "    <tr>\n",
       "      <th>1</th>\n",
       "      <td>4</td>\n",
       "      <td>NaN</td>\n",
       "      <td>NaN</td>\n",
       "      <td>Forest fire near La Ronge Sask. Canada</td>\n",
       "      <td>1</td>\n",
       "      <td>forest fire near ronge sask canada</td>\n",
       "    </tr>\n",
       "    <tr>\n",
       "      <th>2</th>\n",
       "      <td>5</td>\n",
       "      <td>NaN</td>\n",
       "      <td>NaN</td>\n",
       "      <td>All residents asked to 'shelter in place' are ...</td>\n",
       "      <td>1</td>\n",
       "      <td>residents asked shelter place notified officer...</td>\n",
       "    </tr>\n",
       "    <tr>\n",
       "      <th>3</th>\n",
       "      <td>6</td>\n",
       "      <td>NaN</td>\n",
       "      <td>NaN</td>\n",
       "      <td>13,000 people receive #wildfires evacuation or...</td>\n",
       "      <td>1</td>\n",
       "      <td>people receive wildfires evacuation orders cal...</td>\n",
       "    </tr>\n",
       "    <tr>\n",
       "      <th>4</th>\n",
       "      <td>7</td>\n",
       "      <td>NaN</td>\n",
       "      <td>NaN</td>\n",
       "      <td>Just got sent this photo from Ruby #Alaska as ...</td>\n",
       "      <td>1</td>\n",
       "      <td>got sent photo ruby alaska smoke wildfires pou...</td>\n",
       "    </tr>\n",
       "  </tbody>\n",
       "</table>\n",
       "</div>"
      ],
      "text/plain": [
       "   id keyword location                                               text  \\\n",
       "0   1     NaN      NaN  Our Deeds are the Reason of this #earthquake M...   \n",
       "1   4     NaN      NaN             Forest fire near La Ronge Sask. Canada   \n",
       "2   5     NaN      NaN  All residents asked to 'shelter in place' are ...   \n",
       "3   6     NaN      NaN  13,000 people receive #wildfires evacuation or...   \n",
       "4   7     NaN      NaN  Just got sent this photo from Ruby #Alaska as ...   \n",
       "\n",
       "   target                                       Cleaned_text  \n",
       "0       1          deeds reason earthquake may allah forgive  \n",
       "1       1                 forest fire near ronge sask canada  \n",
       "2       1  residents asked shelter place notified officer...  \n",
       "3       1  people receive wildfires evacuation orders cal...  \n",
       "4       1  got sent photo ruby alaska smoke wildfires pou...  "
      ]
     },
     "execution_count": 23,
     "metadata": {},
     "output_type": "execute_result"
    }
   ],
   "source": [
    "train.head()"
   ]
  },
  {
   "cell_type": "markdown",
   "metadata": {},
   "source": [
    "## NLP Algorithm \n",
    "### Bag of Words\n",
    "- 1: Let's use Bag of Words first to transform the texts\n",
    "- I just wanted to use 1-gram."
   ]
  },
  {
   "cell_type": "code",
   "execution_count": 55,
   "metadata": {},
   "outputs": [],
   "source": [
    "# Creating functions for using BOW,TF-IDF \n",
    "\n",
    "def encoding(train_data,test_data,bow,tf_idf):\n",
    "    if bow==True: \n",
    "        cv = CountVectorizer(ngram_range=(1, 1))\n",
    "        cv_df_train = cv.fit_transform(train_data).toarray()\n",
    "        train_df = pd.DataFrame(cv_df_train,columns=cv.get_feature_names())\n",
    "        cv_df_test = cv.transform(test_data).toarray()\n",
    "        test_df = pd.DataFrame(cv_df_test,columns=cv.get_feature_names())\n",
    "        \n",
    "    elif tf_idf==True:\n",
    "        \n",
    "        tfidf = TfidfVectorizer(\n",
    "            ngram_range=(1, 1), use_idf=1,smooth_idf=1,sublinear_tf=1)    \n",
    "        tf_df_train = tfidf.fit_transform(train_data).toarray()\n",
    "        train_df = pd.DataFrame(tf_df_train,columns=tfidf.get_feature_names())\n",
    "        tf_df_test = tfidf.transform(test_data).toarray()\n",
    "        test_df = pd.DataFrame(tf_df_test,columns=tfidf.get_feature_names())\n",
    "        \n",
    "    return train_df,test_df\n"
   ]
  },
  {
   "cell_type": "code",
   "execution_count": 59,
   "metadata": {},
   "outputs": [],
   "source": [
    "bow_train_df,bow_test_df = encoding(train[\"Cleaned_text\"],test[\"Cleaned_text\"],bow=True,tf_idf=False)\n",
    "y_final = np.array(y)"
   ]
  },
  {
   "cell_type": "code",
   "execution_count": 60,
   "metadata": {},
   "outputs": [
    {
     "data": {
      "text/plain": [
       "((7613, 15742), (3263, 15742), (7613,))"
      ]
     },
     "execution_count": 60,
     "metadata": {},
     "output_type": "execute_result"
    }
   ],
   "source": [
    "bow_train_df.shape, bow_test_df.shape, y_array.shape"
   ]
  },
  {
   "cell_type": "markdown",
   "metadata": {},
   "source": [
    "After the transformation, we can see that:\n",
    "\n",
    "- Our train data has 7613 tweets\n",
    "- Our 'Bag' contains 15742 different words, they will be used to vectorize each tweet."
   ]
  },
  {
   "cell_type": "markdown",
   "metadata": {},
   "source": [
    "### TF- IDF\n",
    "\n",
    "- Let's also use TF-IDF to vectorize the tweets\n",
    "- I will use the smoothed version of TF-IDF"
   ]
  },
  {
   "cell_type": "code",
   "execution_count": 57,
   "metadata": {},
   "outputs": [],
   "source": [
    "tfidf_train_df,tfidf_test_df = encoding(train[\"Cleaned_text\"],test[\"Cleaned_text\"],bow=False,tf_idf=True)\n",
    "y_array = np.array(y)"
   ]
  },
  {
   "cell_type": "code",
   "execution_count": 61,
   "metadata": {},
   "outputs": [
    {
     "data": {
      "text/plain": [
       "((7613, 15742), (3263, 15742), (7613,))"
      ]
     },
     "execution_count": 61,
     "metadata": {},
     "output_type": "execute_result"
    }
   ],
   "source": [
    "tfidf_train_df.shape, tfidf_test_df.shape, y_array.shape"
   ]
  },
  {
   "cell_type": "markdown",
   "metadata": {},
   "source": [
    "## Glove Vector Embedding\n",
    "- I choose to use GloVe here over word2vec\n",
    "- I believe GloVe here may be better because of the small corpus"
   ]
  },
  {
   "cell_type": "code",
   "execution_count": 28,
   "metadata": {},
   "outputs": [],
   "source": [
    "from tensorflow.keras.preprocessing.text import Tokenizer"
   ]
  },
  {
   "cell_type": "code",
   "execution_count": 29,
   "metadata": {},
   "outputs": [
    {
     "data": {
      "text/plain": [
       "['deeds reason earthquake may allah forgive',\n",
       " 'forest fire near ronge sask canada',\n",
       " 'residents asked shelter place notified officers evacuation shelter place orders expected']"
      ]
     },
     "execution_count": 29,
     "metadata": {},
     "output_type": "execute_result"
    }
   ],
   "source": [
    "text_train = train[\"Cleaned_text\"].tolist()\n",
    "text_test = test[\"Cleaned_text\"].tolist()\n",
    "text_train[:3] # Analysing first 3 sentence in train data."
   ]
  },
  {
   "cell_type": "code",
   "execution_count": 30,
   "metadata": {},
   "outputs": [],
   "source": [
    "# Tokenizer to read text\n",
    "token = Tokenizer()\n",
    "token.fit_on_texts(text_train)"
   ]
  },
   ],
   "source": [
    "# Take a brief look at tokenized texts\n",
    "token.word_index"
   ]
  },
  {
   "cell_type": "code",
   "execution_count": 32,
   "metadata": {},
   "outputs": [
    {
     "name": "stdout",
     "output_type": "stream",
     "text": [
      "The corpus size is : 15743\n"
     ]
    }
   ],
   "source": [
    "print(\"The corpus size is : {}\".format(len(token.word_index)+1))"
   ]
  },
  {
   "cell_type": "code",
   "execution_count": 33,
   "metadata": {},
   "outputs": [
    {
     "name": "stdout",
     "output_type": "stream",
     "text": [
      "['deeds reason earthquake may allah forgive', 'forest fire near ronge sask canada', 'residents asked shelter place notified officers evacuation shelter place orders expected']\n",
      "[[4101, 687, 141, 52, 1378, 4102], [89, 3, 117, 6150, 6151, 1011], [1500, 1379, 1674, 531, 6152, 1501, 142, 1674, 531, 1185, 909]]\n"
     ]
    }
   ],
   "source": [
    "# Conding tokens in words\n",
    "encoded_text_train = token.texts_to_sequences(text_train)\n",
    "encoded_text_test = token.texts_to_sequences(text_test)\n",
    "print(text_train[:3])\n",
    "print(encoded_text_train[:3])\n"
   ]
  },
  {
   "cell_type": "markdown",
   "metadata": {},
   "source": [
    "- The above 3 sentences, have been encoded to the numerical lists below."
   ]
  },
  {
   "cell_type": "code",
   "execution_count": 34,
   "metadata": {},
   "outputs": [
    {
     "data": {
      "text/plain": [
       "array([[4101,  687,  141, ...,    0,    0,    0],\n",
       "       [  89,    3,  117, ...,    0,    0,    0],\n",
       "       [1500, 1379, 1674, ...,    0,    0,    0],\n",
       "       ...,\n",
       "       [ 595,  406, 1370, ...,    0,    0,    0],\n",
       "       [  13,  940, 2015, ...,    0,    0,    0],\n",
       "       [ 105,  101,  387, ...,    0,    0,    0]])"
      ]
     },
     "execution_count": 34,
     "metadata": {},
     "output_type": "execute_result"
    }
   ],
   "source": [
    "#Considering 120 words\n",
    "max_length = 120 # Considering top 120 tokens.\n",
    "X_train_Glove = pad_sequences(encoded_text_train,maxlen=max_length,padding='post') # This is done to make the sequence of same length.\n",
    "X_test_Glove = pad_sequences(encoded_text_test,maxlen=max_length,padding='post')\n",
    "X_train_Glove"
   ]
  },
  {
   "cell_type": "markdown",
   "metadata": {},
   "source": [
    "- Now we have turned our tweets in to a 7613 x 120 Matrix\n",
    "\n",
    "### Loading GloVe Vectors\n",
    "- The trained embedding of GloVe is available for download at http://nlp.stanford.edu/data/glove.6B.zip\n",
    "- This contains the pretrained GloVe with different length\n",
    "- Each File row starts with a word and followed by the \n",
    "- There are 50, 100, 200, or 300 lengths of choices. I chose to use 200 length embedding."
   ]
  },
  {
   "cell_type": "code",
   "execution_count": 35,
   "metadata": {},
   "outputs": [],
   "source": [
    "file = open('C:\\\\Users\\\\lxie1\\\\Disaster Tweets\\\\glove.6B.200d.txt',encoding='utf-8')"
   ]
  },
  {
   "cell_type": "markdown",
   "metadata": {},
   "source": [
    "In this file, each word is embedding to a vector of 200 dimensions/length."
   ]
  },
  {
   "cell_type": "code",
   "execution_count": 36,
   "metadata": {},
   "outputs": [],
   "source": [
    "GLOVE = dict() # create an empty dict to store the vectors\n",
    "\n",
    "for line in file:\n",
    "    word = line.split()[0]             # Words\n",
    "    vector = np.asarray(line.split()[1:])   # Values\n",
    "    GLOVE[word] = vector              # store in GLOVE dictionary\n",
    "file.close()"
   ]
  },
  {
   "cell_type": "code",
   "execution_count": 79,
   "metadata": {},
   "outputs": [
    {
     "name": "stdout",
     "output_type": "stream",
     "text": [
      "The maximum size of global vectors is : 400000\n",
      "We have 400000 word embeddings\n"
     ]
    }
   ],
   "source": [
    "print(\"The maximum size of global vectors is : {}\".format(len(GLOVE)))\n",
    "print('We have 400000 word embeddings')"
   ]
  },
  {
   "cell_type": "code",
   "execution_count": 38,
   "metadata": {},
   "outputs": [],
   "source": [
    "# This is the corpus that we have, previously, from all the tweets\n",
    "corpus_size = len(token.word_index)+1"
   ]
  },
  {
   "cell_type": "code",
   "execution_count": 39,
   "metadata": {},
   "outputs": [],
   "source": [
    "word_vector_matrix = np.zeros((corpus_size,200))\n",
    "\n",
    "for word,index in token.word_index.items():\n",
    "    vector = GLOVE.get(word)\n",
    "    if vector is not None:\n",
    "        word_vector_matrix[index] = vector\n",
    "        "
   ]
  },
  {
   "cell_type": "code",
   "execution_count": 40,
   "metadata": {},
   "outputs": [
    {
     "name": "stdout",
     "output_type": "stream",
     "text": [
      "The Size of Word Matrix is :(15743, 200)\n"
     ]
    }
   ],
   "source": [
    "print(\"The Size of Word Matrix is :{}\".format(word_vector_matrix.shape))"
   ]
  },
  {
   "cell_type": "code",
   "execution_count": 41,
   "metadata": {},
   "outputs": [
    {
     "data": {
      "text/plain": [
       "array([[ 0.      ,  0.      ,  0.      , ...,  0.      ,  0.      ,\n",
       "         0.      ],\n",
       "       [ 0.25527 ,  0.33678 , -0.52359 , ..., -0.051566,  0.31835 ,\n",
       "         0.34844 ],\n",
       "       [-0.081658,  0.11377 , -0.69703 , ...,  0.43896 ,  0.63781 ,\n",
       "         0.54349 ],\n",
       "       ...,\n",
       "       [-0.54595 ,  0.08216 , -0.12738 , ...,  0.11586 , -0.30774 ,\n",
       "        -0.82824 ],\n",
       "       [-0.65634 ,  0.56822 , -0.17518 , ..., -0.14873 , -0.22652 ,\n",
       "        -0.080195],\n",
       "       [-0.35919 , -0.38636 , -0.10258 , ..., -0.35417 , -0.99118 ,\n",
       "        -0.29699 ]])"
      ]
     },
     "execution_count": 41,
     "metadata": {},
     "output_type": "execute_result"
    }
   ],
   "source": [
    "word_vector_matrix"
   ]
  },
  {
   "cell_type": "markdown",
   "metadata": {},
   "source": [
    "Successfully created a matrix, with GloVe embeddings "
   ]
  },
  {
   "cell_type": "markdown",
   "metadata": {},
   "source": [
    "## ML Models\n",
    "- Now that we have finished embedding, We will use machine learning models to analyze vectorized texts\n",
    "- In this notebook I will just use TF-IDF processed data. "
   ]
  },
  {
   "cell_type": "markdown",
   "metadata": {},
   "source": [
    "### Train Test Split"
   ]
  },
  {
   "cell_type": "code",
   "execution_count": 42,
   "metadata": {},
   "outputs": [],
   "source": [
    "from sklearn.model_selection import train_test_split"
   ]
  },
  {
   "cell_type": "code",
   "execution_count": 62,
   "metadata": {},
   "outputs": [
    {
     "data": {
      "text/plain": [
       "((7613, 15742), (3263, 15742), (7613,))"
      ]
     },
     "execution_count": 62,
     "metadata": {},
     "output_type": "execute_result"
    }
   ],
   "source": [
    "tfidf_train_df.shape, tfidf_test_df.shape, y_array.shape"
   ]
  },
  {
   "cell_type": "markdown",
   "metadata": {},
   "source": [
    "Create a train test split for tf-idf processed data, 80% 20%"
   ]
  },
  {
   "cell_type": "code",
   "execution_count": 63,
   "metadata": {},
   "outputs": [],
   "source": [
    "# For TF-IDF\n",
    "x_train_tfidf, x_test_tfidf, y_train_tfidf, y_test_tfidf = train_test_split(tfidf_train_df, y_array, test_size=0.2, random_state=42, stratify = y_array)\n",
    "\n",
    "X_train_tfidf, X_valid_tfidf, Y_train_tfidf, Y_valid_tfidf = train_test_split(x_train_tfidf, y_train_tfidf, test_size=0.1, random_state=42, stratify = y_train_tfidf)"
   ]
  },
  {
   "cell_type": "markdown",
   "metadata": {},
   "source": [
    "Create a train test split for GloVe processed data, 80% 20%"
   ]
  },
  {
   "cell_type": "markdown",
   "metadata": {},
   "source": [
    "### Logistic Regression"
   ]
  },
  {
   "cell_type": "code",
   "execution_count": 64,
   "metadata": {},
   "outputs": [
    {
     "name": "stdout",
     "output_type": "stream",
     "text": [
      "              precision    recall  f1-score   support\n",
      "\n",
      "           0       0.79      0.93      0.85       869\n",
      "           1       0.88      0.67      0.76       654\n",
      "\n",
      "    accuracy                           0.82      1523\n",
      "   macro avg       0.83      0.80      0.80      1523\n",
      "weighted avg       0.83      0.82      0.81      1523\n",
      "\n"
     ]
    }
   ],
   "source": [
    "# tf-idf\n",
    "model1 = LogisticRegression(C=1.0)\n",
    "model1.fit(X_train_tfidf,Y_train_tfidf)\n",
    "pred1 = model1.predict(x_test_tfidf)\n",
    "report1 = classification_report(y_test_tfidf,pred1)\n",
    "print(report1)"
   ]
  },
  {
   "cell_type": "markdown",
   "metadata": {},
   "source": [
    "### Naive Bayes"
   ]
  },
  {
   "cell_type": "code",
   "execution_count": 65,
   "metadata": {},
   "outputs": [
    {
     "name": "stdout",
     "output_type": "stream",
     "text": [
      "              precision    recall  f1-score   support\n",
      "\n",
      "           0       0.81      0.90      0.85       869\n",
      "           1       0.84      0.72      0.77       654\n",
      "\n",
      "    accuracy                           0.82      1523\n",
      "   macro avg       0.82      0.81      0.81      1523\n",
      "weighted avg       0.82      0.82      0.82      1523\n",
      "\n"
     ]
    }
   ],
   "source": [
    "# tf-idf\n",
    "model2 = MultinomialNB(alpha=0.7)\n",
    "model2.fit(X_train_tfidf,Y_train_tfidf)\n",
    "pred2 = model2.predict(x_test_tfidf)\n",
    "report2 = classification_report(y_test_tfidf,pred2)\n",
    "print(report2)"
   ]
  },
  {
   "cell_type": "markdown",
   "metadata": {},
   "source": [
    "### Random Forest"
   ]
  },
  {
   "cell_type": "code",
   "execution_count": 66,
   "metadata": {},
   "outputs": [
    {
     "name": "stdout",
     "output_type": "stream",
     "text": [
      "              precision    recall  f1-score   support\n",
      "\n",
      "           0       0.77      0.91      0.84       869\n",
      "           1       0.85      0.65      0.73       654\n",
      "\n",
      "    accuracy                           0.80      1523\n",
      "   macro avg       0.81      0.78      0.78      1523\n",
      "weighted avg       0.80      0.80      0.79      1523\n",
      "\n"
     ]
    }
   ],
   "source": [
    "# tf-idf\n",
    "model3 = RandomForestClassifier(n_estimators = 1000)\n",
    "model3.fit(X_train_tfidf,Y_train_tfidf)\n",
    "pred3 = model3.predict(x_test_tfidf)\n",
    "report3 = classification_report(y_test_tfidf,pred3)\n",
    "print(report3)"
   ]
  },
  {
   "cell_type": "markdown",
   "metadata": {},
   "source": [
    "### XGBoost"
   ]
  },
  {
   "cell_type": "code",
   "execution_count": 67,
   "metadata": {},
   "outputs": [
    {
     "name": "stdout",
     "output_type": "stream",
     "text": [
      "[10:38:36] WARNING: C:/Users/Administrator/workspace/xgboost-win64_release_1.4.0/src/learner.cc:1095: Starting in XGBoost 1.3.0, the default evaluation metric used with the objective 'binary:logistic' was changed from 'error' to 'logloss'. Explicitly set eval_metric if you'd like to restore the old behavior.\n",
      "              precision    recall  f1-score   support\n",
      "\n",
      "           0       0.77      0.89      0.83       869\n",
      "           1       0.82      0.64      0.72       654\n",
      "\n",
      "    accuracy                           0.78      1523\n",
      "   macro avg       0.79      0.77      0.77      1523\n",
      "weighted avg       0.79      0.78      0.78      1523\n",
      "\n"
     ]
    }
   ],
   "source": [
    "# tf-idf\n",
    "model4 = XGBClassifier()\n",
    "model4.fit(X_train_tfidf,Y_train_tfidf)\n",
    "pred4 = model4.predict(x_test_tfidf)\n",
    "report4 = classification_report(y_test_tfidf,pred4)\n",
    "print(report4)"
   ]
  },
  {
   "cell_type": "markdown",
   "metadata": {},
   "source": [
    "### Voting Ensemble"
   ]
  },
  {
   "cell_type": "code",
   "execution_count": 68,
   "metadata": {},
   "outputs": [
    {
     "name": "stdout",
     "output_type": "stream",
     "text": [
      "[10:40:15] WARNING: C:/Users/Administrator/workspace/xgboost-win64_release_1.4.0/src/learner.cc:1095: Starting in XGBoost 1.3.0, the default evaluation metric used with the objective 'binary:logistic' was changed from 'error' to 'logloss'. Explicitly set eval_metric if you'd like to restore the old behavior.\n",
      "              precision    recall  f1-score   support\n",
      "\n",
      "           0       0.79      0.92      0.85       869\n",
      "           1       0.86      0.68      0.76       654\n",
      "\n",
      "    accuracy                           0.82      1523\n",
      "   macro avg       0.83      0.80      0.81      1523\n",
      "weighted avg       0.82      0.82      0.81      1523\n",
      "\n"
     ]
    }
   ],
   "source": [
    "from sklearn.ensemble import VotingClassifier\n",
    "\n",
    "estimators = []\n",
    "estimators.append(('LR', \n",
    "                  LogisticRegression(C=1.0)))\n",
    "estimators.append(('NB', MultinomialNB(alpha=0.7)))\n",
    "estimators.append(('XBG', XGBClassifier()))\n",
    "\n",
    "vc = VotingClassifier(estimators=estimators,voting='soft')\n",
    "vc.fit(X_train_tfidf,Y_train_tfidf)\n",
    "pred_vc = vc.predict(x_test_tfidf)\n",
    "cr_vc    = classification_report(y_test_tfidf,pred_vc)\n",
    "print(cr_vc)"
   ]
  },
  {
   "cell_type": "markdown",
   "metadata": {},
   "source": [
    "## Summarize Model Accuracy Score"
   ]
  },
  {
   "cell_type": "code",
   "execution_count": 69,
   "metadata": {},
   "outputs": [
    {
     "data": {
      "text/html": [
       "<style  type=\"text/css\" >\n",
       "    #T_4d4931b6_b737_11eb_9614_70c94e7418a4row0_col1 {\n",
       "            background-color:  #08306b;\n",
       "            color:  #f1f1f1;\n",
       "        }    #T_4d4931b6_b737_11eb_9614_70c94e7418a4row1_col1 {\n",
       "            background-color:  #0f5aa3;\n",
       "            color:  #f1f1f1;\n",
       "        }    #T_4d4931b6_b737_11eb_9614_70c94e7418a4row2_col1 {\n",
       "            background-color:  #1562a9;\n",
       "            color:  #f1f1f1;\n",
       "        }    #T_4d4931b6_b737_11eb_9614_70c94e7418a4row3_col1 {\n",
       "            background-color:  #65aad4;\n",
       "            color:  #000000;\n",
       "        }    #T_4d4931b6_b737_11eb_9614_70c94e7418a4row4_col1 {\n",
       "            background-color:  #f7fbff;\n",
       "            color:  #000000;\n",
       "        }</style><table id=\"T_4d4931b6_b737_11eb_9614_70c94e7418a4\" ><thead>    <tr>        <th class=\"blank level0\" ></th>        <th class=\"col_heading level0 col0\" >Models</th>        <th class=\"col_heading level0 col1\" >Accuracy Score</th>    </tr></thead><tbody>\n",
       "                <tr>\n",
       "                        <th id=\"T_4d4931b6_b737_11eb_9614_70c94e7418a4level0_row0\" class=\"row_heading level0 row0\" >4</th>\n",
       "                        <td id=\"T_4d4931b6_b737_11eb_9614_70c94e7418a4row0_col0\" class=\"data row0 col0\" >Voting Ensemble(LR+NB+XGB)</td>\n",
       "                        <td id=\"T_4d4931b6_b737_11eb_9614_70c94e7418a4row0_col1\" class=\"data row0 col1\" >0.828760</td>\n",
       "            </tr>\n",
       "            <tr>\n",
       "                        <th id=\"T_4d4931b6_b737_11eb_9614_70c94e7418a4level0_row1\" class=\"row_heading level0 row1\" >1</th>\n",
       "                        <td id=\"T_4d4931b6_b737_11eb_9614_70c94e7418a4row1_col0\" class=\"data row1 col0\" >Naive Bayes</td>\n",
       "                        <td id=\"T_4d4931b6_b737_11eb_9614_70c94e7418a4row1_col1\" class=\"data row1 col1\" >0.822340</td>\n",
       "            </tr>\n",
       "            <tr>\n",
       "                        <th id=\"T_4d4931b6_b737_11eb_9614_70c94e7418a4level0_row2\" class=\"row_heading level0 row2\" >0</th>\n",
       "                        <td id=\"T_4d4931b6_b737_11eb_9614_70c94e7418a4row2_col0\" class=\"data row2 col0\" >Logistic Regression</td>\n",
       "                        <td id=\"T_4d4931b6_b737_11eb_9614_70c94e7418a4row2_col1\" class=\"data row2 col1\" >0.821130</td>\n",
       "            </tr>\n",
       "            <tr>\n",
       "                        <th id=\"T_4d4931b6_b737_11eb_9614_70c94e7418a4level0_row3\" class=\"row_heading level0 row3\" >2</th>\n",
       "                        <td id=\"T_4d4931b6_b737_11eb_9614_70c94e7418a4row3_col0\" class=\"data row3 col0\" >Random Forest</td>\n",
       "                        <td id=\"T_4d4931b6_b737_11eb_9614_70c94e7418a4row3_col1\" class=\"data row3 col1\" >0.809770</td>\n",
       "            </tr>\n",
       "            <tr>\n",
       "                        <th id=\"T_4d4931b6_b737_11eb_9614_70c94e7418a4level0_row4\" class=\"row_heading level0 row4\" >3</th>\n",
       "                        <td id=\"T_4d4931b6_b737_11eb_9614_70c94e7418a4row4_col0\" class=\"data row4 col0\" >XGBoost</td>\n",
       "                        <td id=\"T_4d4931b6_b737_11eb_9614_70c94e7418a4row4_col1\" class=\"data row4 col1\" >0.789370</td>\n",
       "            </tr>\n",
       "    </tbody></table>"
      ],
      "text/plain": [
       "<pandas.io.formats.style.Styler at 0x208ab2bf188>"
      ]
     },
     "execution_count": 69,
     "metadata": {},
     "output_type": "execute_result"
    }
   ],
   "source": [
    "acc_1 = 0.82113\n",
    "acc_2 = 0.82234\n",
    "acc_3 = 0.80977\n",
    "acc_4 = 0.78937\n",
    "acc_5 = 0.82876\n",
    "\n",
    "results = pd.DataFrame([[\"Logistic Regression\",acc_1],[\"Naive Bayes\",acc_2],\n",
    "                       [\"Random Forest\",acc_3],[\"XGBoost\",acc_4],[\"Voting Ensemble(LR+NB+XGB)\",acc_5]]\n",
    "                       ,columns = [\"Models\",\"Accuracy Score\"]).sort_values(by='Accuracy Score',ascending=False)\n",
    "results.style.background_gradient(cmap='Blues')"
   ]
  },
  {
   "cell_type": "markdown",
   "metadata": {},
   "source": [
    "## Conclusion\n",
    "- The Voting Ensemble methold has best accuracy score of 0.819 compared to other models.\n",
    "- Run Voting Ensemble on Kaggle Test data set"
   ]
  },
  {
   "cell_type": "code",
   "execution_count": 72,
   "metadata": {},
   "outputs": [],
   "source": [
    "final_pred = vc.predict(tfidf_test_df)"
   ]
  },
  {
   "cell_type": "code",
   "execution_count": 74,
   "metadata": {},
   "outputs": [],
   "source": [
    "submission = pd.DataFrame(final_pred)"
   ]
  },
  {
   "cell_type": "code",
   "execution_count": 75,
   "metadata": {},
   "outputs": [],
   "source": [
    "test_id = pd.DataFrame(test[\"id\"])"
   ]
  },
  {
   "cell_type": "code",
   "execution_count": 76,
   "metadata": {},
   "outputs": [],
   "source": [
    "submission = pd.concat([test_id,submission],axis=1)\n",
    "submission.columns = [\"id\",\"target\"]"
   ]
  },
  {
   "cell_type": "code",
   "execution_count": 78,
   "metadata": {},
   "outputs": [],
   "source": [
    "submission.to_csv(\"Submission.csv\",index=False)"
   ]
  },
  {
   "cell_type": "code",
   "execution_count": null,
   "metadata": {},
   "outputs": [],
   "source": []
  }
 ],
 "metadata": {
  "kernelspec": {
   "display_name": "Python 3",
   "language": "python",
   "name": "python3"
  },
  "language_info": {
   "codemirror_mode": {
    "name": "ipython",
    "version": 3
   },
   "file_extension": ".py",
   "mimetype": "text/x-python",
   "name": "python",
   "nbconvert_exporter": "python",
   "pygments_lexer": "ipython3",
   "version": "3.7.6"
  }
 },
 "nbformat": 4,
 "nbformat_minor": 4
}
